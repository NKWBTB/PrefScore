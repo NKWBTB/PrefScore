{
 "cells": [
  {
   "cell_type": "code",
   "execution_count": 1,
   "metadata": {},
   "outputs": [],
   "source": [
    "from test_eval import *\n",
    "from tqdm import tqdm"
   ]
  },
  {
   "cell_type": "code",
   "execution_count": 2,
   "metadata": {},
   "outputs": [],
   "source": [
    "def load_idxs(path='ids.txt'):\n",
    "    tests = []\n",
    "    with open(path, \"r\") as f:\n",
    "        for line in f:\n",
    "            line = line.split(\"\\t\")\n",
    "            test = [int(i) for i in line]\n",
    "            tests.append(test)\n",
    "    return tests\n",
    "\n",
    "def gen_random_idxs(doc_ids, times=1000, dump_to='ids.txt'):\n",
    "    import random\n",
    "    with open(dump_to, \"w\") as f:\n",
    "        while times > 0:\n",
    "            test_docs = random.choices(doc_ids, k=len(doc_ids))\n",
    "            output = \"\\t\".join([str(i) for i in test_docs]) + \"\\n\"\n",
    "            f.write(output)\n",
    "            times -= 1"
   ]
  },
  {
   "cell_type": "code",
   "execution_count": 3,
   "metadata": {},
   "outputs": [],
   "source": [
    "def load_results(result_root):\n",
    "    training_sets = os.listdir(result_root)\n",
    "    sd_abs, sd_ext, sd_mix = merge_results(result_root, training_sets, True)\n",
    "    return sd_abs, sd_ext, sd_mix"
   ]
  },
  {
   "cell_type": "code",
   "execution_count": 4,
   "metadata": {},
   "outputs": [
    {
     "name": "stdout",
     "output_type": "stream",
     "text": [
      "['B_big_patent_pref_ordered', 'B_billsum_pref_ordered', 'B_cnn_dailymail_pref_ordered', 'B_newsroom_pref_ordered', 'B_scientific_papers_pref_ordered', 'bert_f_score', 'bert_precision_score', 'bert_recall_score', 'js-2', 'litepyramid_recall', 'metric_bert_score_f1', 'metric_bert_score_precision', 'metric_bert_score_recall', 'metric_blanc', 'metric_blanc_tune', 'metric_bleu', 'metric_cider', 'metric_meteor', 'metric_mover_score', 'metric_s3_pyr', 'metric_s3_resp', 'metric_summaqa_avg_fscore', 'metric_summaqa_avg_prob', 'metric_supert', 'mover_score', 'rouge_1_f_score', 'rouge_1_precision', 'rouge_1_recall', 'rouge_2_f_score', 'rouge_2_precision', 'rouge_2_recall', 'rouge_l_f_score', 'rouge_l_precision', 'rouge_l_recall']\n"
     ]
    }
   ],
   "source": [
    "# Configurations \n",
    "result_root = \"../../exp/result_bert_base_uncased_5_15/15\"\n",
    "level=\"summary\"\n",
    "method = spearmanr\n",
    "sd_abs, sd_ext, sd_mix = load_results(result_root)\n",
    "\n",
    "mlist = utils.get_metrics_list(sd_mix)\n",
    "print(mlist)\n",
    "\n",
    "if not os.path.exists(\"ids.txt\"):\n",
    "    gen_random_idxs(list(sd_mix.keys()))\n",
    "\n",
    "tests = load_idxs()"
   ]
  },
  {
   "cell_type": "code",
   "execution_count": 5,
   "metadata": {},
   "outputs": [],
   "source": [
    "# Test hyp H_0 corrA >= corrB, alternative hyp H_a: corrA < corrB\n",
    "\n",
    "targetA = ['B_cnn_dailymail_pref_ordered', 'B_billsum_pref_ordered', 'B_big_patent_pref_ordered',  'B_scientific_papers_pref_ordered']\n",
    "targetB = ['metric_blanc_tune', 'metric_supert', 'metric_summaqa_avg_fscore', 'metric_summaqa_avg_prob']"
   ]
  },
  {
   "cell_type": "code",
   "execution_count": 6,
   "metadata": {},
   "outputs": [],
   "source": [
    "def sig_test(sd):\n",
    "    f = open(\"sig.tsv\", \"w\", encoding=\"utf-8\")\n",
    "    for sysA in targetA:\n",
    "        f.write(sysA + \"\\t\")\n",
    "        for sysB in targetB:\n",
    "            print(sysA, sysB)\n",
    "            corrA = calc_corr(level, method, ('litepyramid_recall', sysA), sd, None)\n",
    "            corrB = calc_corr(level, method, ('litepyramid_recall', sysB), sd, None)\n",
    "            if corrA < corrB: \n",
    "                print(\"Skip\")\n",
    "                f.write(\"-\\t\")\n",
    "                continue\n",
    "            \n",
    "            count = 0\n",
    "            for test in tqdm(tests):\n",
    "                corrA = calc_corr(level, method, ('litepyramid_recall', sysA), sd, None, test)\n",
    "                corrB = calc_corr(level, method, ('litepyramid_recall', sysB), sd, None, test)\n",
    "                if corrA < corrB: count += 1\n",
    "            pvalue = count / len(tests)\n",
    "            print(\"P-value:\", pvalue)\n",
    "            f.write(\"%.2f\\t\" % pvalue)\n",
    "        f.write(\"\\n\")\n",
    "    f.write(\"\\t\".join([\"\"] + targetB))\n",
    "    f.close()"
   ]
  },
  {
   "cell_type": "code",
   "execution_count": 7,
   "metadata": {},
   "outputs": [
    {
     "name": "stdout",
     "output_type": "stream",
     "text": [
      "B_cnn_dailymail_pref_ordered metric_blanc_tune\n"
     ]
    },
    {
     "name": "stderr",
     "output_type": "stream",
     "text": [
      "100%|██████████| 1000/1000 [02:33<00:00,  6.53it/s]\n"
     ]
    },
    {
     "name": "stdout",
     "output_type": "stream",
     "text": [
      "P-value: 0.491\n",
      "B_cnn_dailymail_pref_ordered metric_supert\n"
     ]
    },
    {
     "name": "stderr",
     "output_type": "stream",
     "text": [
      "100%|██████████| 1000/1000 [02:31<00:00,  6.60it/s]\n"
     ]
    },
    {
     "name": "stdout",
     "output_type": "stream",
     "text": [
      "P-value: 0.081\n",
      "B_cnn_dailymail_pref_ordered metric_summaqa_avg_fscore\n"
     ]
    },
    {
     "name": "stderr",
     "output_type": "stream",
     "text": [
      "100%|██████████| 1000/1000 [02:31<00:00,  6.58it/s]\n"
     ]
    },
    {
     "name": "stdout",
     "output_type": "stream",
     "text": [
      "P-value: 0.208\n",
      "B_cnn_dailymail_pref_ordered metric_summaqa_avg_prob\n"
     ]
    },
    {
     "name": "stderr",
     "output_type": "stream",
     "text": [
      "100%|██████████| 1000/1000 [02:32<00:00,  6.56it/s]\n"
     ]
    },
    {
     "name": "stdout",
     "output_type": "stream",
     "text": [
      "P-value: 0.07\n",
      "B_billsum_pref_ordered metric_blanc_tune\n",
      "Skip\n",
      "B_billsum_pref_ordered metric_supert\n"
     ]
    },
    {
     "name": "stderr",
     "output_type": "stream",
     "text": [
      "100%|██████████| 1000/1000 [02:32<00:00,  6.57it/s]\n"
     ]
    },
    {
     "name": "stdout",
     "output_type": "stream",
     "text": [
      "P-value: 0.367\n",
      "B_billsum_pref_ordered metric_summaqa_avg_fscore\n"
     ]
    },
    {
     "name": "stderr",
     "output_type": "stream",
     "text": [
      "100%|██████████| 1000/1000 [02:32<00:00,  6.56it/s]\n"
     ]
    },
    {
     "name": "stdout",
     "output_type": "stream",
     "text": [
      "P-value: 0.492\n",
      "B_billsum_pref_ordered metric_summaqa_avg_prob\n"
     ]
    },
    {
     "name": "stderr",
     "output_type": "stream",
     "text": [
      "100%|██████████| 1000/1000 [02:32<00:00,  6.57it/s]\n"
     ]
    },
    {
     "name": "stdout",
     "output_type": "stream",
     "text": [
      "P-value: 0.201\n",
      "B_big_patent_pref_ordered metric_blanc_tune\n"
     ]
    },
    {
     "name": "stderr",
     "output_type": "stream",
     "text": [
      "100%|██████████| 1000/1000 [02:31<00:00,  6.58it/s]\n"
     ]
    },
    {
     "name": "stdout",
     "output_type": "stream",
     "text": [
      "P-value: 0.513\n",
      "B_big_patent_pref_ordered metric_supert\n"
     ]
    },
    {
     "name": "stderr",
     "output_type": "stream",
     "text": [
      "100%|██████████| 1000/1000 [02:32<00:00,  6.56it/s]\n"
     ]
    },
    {
     "name": "stdout",
     "output_type": "stream",
     "text": [
      "P-value: 0.081\n",
      "B_big_patent_pref_ordered metric_summaqa_avg_fscore\n"
     ]
    },
    {
     "name": "stderr",
     "output_type": "stream",
     "text": [
      "100%|██████████| 1000/1000 [02:30<00:00,  6.64it/s]\n"
     ]
    },
    {
     "name": "stdout",
     "output_type": "stream",
     "text": [
      "P-value: 0.221\n",
      "B_big_patent_pref_ordered metric_summaqa_avg_prob\n"
     ]
    },
    {
     "name": "stderr",
     "output_type": "stream",
     "text": [
      "100%|██████████| 1000/1000 [02:29<00:00,  6.70it/s]\n"
     ]
    },
    {
     "name": "stdout",
     "output_type": "stream",
     "text": [
      "P-value: 0.08\n",
      "B_scientific_papers_pref_ordered metric_blanc_tune\n",
      "Skip\n",
      "B_scientific_papers_pref_ordered metric_supert\n"
     ]
    },
    {
     "name": "stderr",
     "output_type": "stream",
     "text": [
      "100%|██████████| 1000/1000 [02:29<00:00,  6.71it/s]\n"
     ]
    },
    {
     "name": "stdout",
     "output_type": "stream",
     "text": [
      "P-value: 0.293\n",
      "B_scientific_papers_pref_ordered metric_summaqa_avg_fscore\n"
     ]
    },
    {
     "name": "stderr",
     "output_type": "stream",
     "text": [
      "100%|██████████| 1000/1000 [02:29<00:00,  6.71it/s]\n"
     ]
    },
    {
     "name": "stdout",
     "output_type": "stream",
     "text": [
      "P-value: 0.41\n",
      "B_scientific_papers_pref_ordered metric_summaqa_avg_prob\n"
     ]
    },
    {
     "name": "stderr",
     "output_type": "stream",
     "text": [
      "100%|██████████| 1000/1000 [02:28<00:00,  6.72it/s]"
     ]
    },
    {
     "name": "stdout",
     "output_type": "stream",
     "text": [
      "P-value: 0.172\n"
     ]
    },
    {
     "name": "stderr",
     "output_type": "stream",
     "text": [
      "\n"
     ]
    }
   ],
   "source": [
    "sig_test(sd_ext)"
   ]
  }
 ],
 "metadata": {
  "interpreter": {
   "hash": "f73e00d382cd9fa8ab9231eb38f700e3a55dd397749a3015a484e3d418ba51cb"
  },
  "kernelspec": {
   "display_name": "Python 3.8.10 ('base')",
   "language": "python",
   "name": "python3"
  },
  "language_info": {
   "codemirror_mode": {
    "name": "ipython",
    "version": 3
   },
   "file_extension": ".py",
   "mimetype": "text/x-python",
   "name": "python",
   "nbconvert_exporter": "python",
   "pygments_lexer": "ipython3",
   "version": "3.8.10"
  },
  "orig_nbformat": 4
 },
 "nbformat": 4,
 "nbformat_minor": 2
}
