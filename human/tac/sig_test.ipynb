{
 "cells": [
  {
   "cell_type": "code",
   "execution_count": 1,
   "metadata": {},
   "outputs": [],
   "source": [
    "from test_eval import *\n",
    "from tqdm import tqdm"
   ]
  },
  {
   "cell_type": "code",
   "execution_count": 2,
   "metadata": {},
   "outputs": [],
   "source": [
    "def load_idxs(path='ids.txt'):\n",
    "    tests = []\n",
    "    with open(path, \"r\") as f:\n",
    "        for line in f:\n",
    "            line = line.split(\"\\t\")\n",
    "            test = [int(i) for i in line]\n",
    "            tests.append(test)\n",
    "    return tests\n",
    "\n",
    "def gen_random_idxs(doc_ids, times=1000, dump_to='ids.txt'):\n",
    "    import random\n",
    "    with open(dump_to, \"w\") as f:\n",
    "        while times > 0:\n",
    "            test_docs = random.choices(doc_ids, k=len(doc_ids))\n",
    "            output = \"\\t\".join([str(i) for i in test_docs]) + \"\\n\"\n",
    "            f.write(output)\n",
    "            times -= 1"
   ]
  },
  {
   "cell_type": "code",
   "execution_count": 3,
   "metadata": {},
   "outputs": [],
   "source": [
    "BERT_result_prefix = \"../../exp/result_bert_base_uncased_5_15/15\"\n",
    "datasets = [\"billsum\", \"scientific_papers\", \"cnn_dailymail\", \"big_patent\"]\n",
    "tac_json_file = \"TAC2010_all.json\"\n",
    "human_only=\"machine\"\n",
    "level = \"summary\"\n",
    "method = \"pref_ordered\"\n",
    "tac_scores = load_tac_json(tac_json_file, human_only)\n",
    "tac_json = json.load(open(tac_json_file))\n",
    "baselines_score_path = \"baselines_ref_free_old.json\"\n",
    "baseline_json = json.load(open(baselines_score_path))\n",
    "aspect = 2\n",
    "\n",
    "num_docs = 46\n",
    "\n",
    "if not os.path.exists(\"ids.txt\"):\n",
    "    gen_random_idxs(list(range(num_docs)))\n",
    "\n",
    "tests = load_idxs()"
   ]
  },
  {
   "cell_type": "code",
   "execution_count": 4,
   "metadata": {},
   "outputs": [],
   "source": [
    "def load_baseline_results(tac_json, baseline_json, baseline, summarizer_type):\n",
    "    score_sorted = []\n",
    "    for docset in tac_json.keys():\n",
    "        for summarizer in tac_json[docset][\"summaries\"].keys():\n",
    "            if (summarizer_type==\"machine\" and summarizer.isnumeric()) or \\\n",
    "               (summarizer_type==\"human\" and summarizer.isalpha()) or \\\n",
    "               (summarizer_type==\"both\") : # this condition is redundant but to be safe\n",
    "                score = baseline_json[\".\".join([docset, summarizer])][baseline]\n",
    "                if score is None: score = 0.0\n",
    "                score_sorted.append(score)\n",
    "\n",
    "    return score_sorted"
   ]
  },
  {
   "cell_type": "code",
   "execution_count": 5,
   "metadata": {},
   "outputs": [],
   "source": [
    "targetA = [(train, method) for train in datasets]\n",
    "targetB = ['blanc', 'supert', 'summaqa_avg_fscore', 'summaqa_avg_prob']"
   ]
  },
  {
   "cell_type": "code",
   "execution_count": 6,
   "metadata": {},
   "outputs": [],
   "source": [
    "def sig_test():\n",
    "    f = open(\"sig_{}.tsv\".format(aspect), \"w\", encoding=\"utf-8\")\n",
    "    for sysA in targetA:\n",
    "        scoreA = read_tac_test_result(os.path.join(BERT_result_prefix, sysA[0], sysA[1], \"test_results_tac.tsv\"), tac_json_file, human_only)\n",
    "        f.write(sysA[0] + \"\\t\")\n",
    "        for sysB in targetB:\n",
    "            print(sysA, sysB)\n",
    "            scoreB = load_baseline_results(tac_json, baseline_json, sysB, human_only)\n",
    "            corrA = calc_cc(scoreA, tac_scores, spearmanr, level, False)[aspect]\n",
    "            corrB = calc_cc(scoreB, tac_scores, spearmanr, level, False)[aspect]\n",
    "            if corrA < corrB: \n",
    "                print(\"Skip\")\n",
    "                f.write(\"-\\t\")\n",
    "                continue\n",
    "            \n",
    "            count = 0\n",
    "            for test in tqdm(tests):\n",
    "                corrA = calc_cc(scoreA, tac_scores, spearmanr, level, False, test)[aspect]\n",
    "                corrB = calc_cc(scoreB, tac_scores, spearmanr, level, False, test)[aspect]\n",
    "                if corrA < corrB: count += 1\n",
    "\n",
    "            pvalue = count / len(tests)\n",
    "            print(\"P-value:\", pvalue)\n",
    "            f.write(\"%.2f\\t\" % pvalue)\n",
    "        f.write(\"\\n\")\n",
    "\n",
    "    f.write(\"\\t\".join([\"\"] + targetB))\n",
    "    f.close()"
   ]
  },
  {
   "cell_type": "code",
   "execution_count": 7,
   "metadata": {},
   "outputs": [
    {
     "name": "stdout",
     "output_type": "stream",
     "text": [
      "('billsum', 'pref_ordered') blanc\n"
     ]
    },
    {
     "name": "stderr",
     "output_type": "stream",
     "text": [
      "100%|██████████| 1000/1000 [03:35<00:00,  4.63it/s]\n"
     ]
    },
    {
     "name": "stdout",
     "output_type": "stream",
     "text": [
      "P-value: 0.054\n",
      "('billsum', 'pref_ordered') supert\n"
     ]
    },
    {
     "name": "stderr",
     "output_type": "stream",
     "text": [
      "100%|██████████| 1000/1000 [03:35<00:00,  4.64it/s]\n"
     ]
    },
    {
     "name": "stdout",
     "output_type": "stream",
     "text": [
      "P-value: 0.202\n",
      "('billsum', 'pref_ordered') summaqa_avg_fscore\n"
     ]
    },
    {
     "name": "stderr",
     "output_type": "stream",
     "text": [
      "100%|██████████| 1000/1000 [03:35<00:00,  4.63it/s]\n"
     ]
    },
    {
     "name": "stdout",
     "output_type": "stream",
     "text": [
      "P-value: 0.0\n",
      "('billsum', 'pref_ordered') summaqa_avg_prob\n"
     ]
    },
    {
     "name": "stderr",
     "output_type": "stream",
     "text": [
      "100%|██████████| 1000/1000 [03:35<00:00,  4.63it/s]\n"
     ]
    },
    {
     "name": "stdout",
     "output_type": "stream",
     "text": [
      "P-value: 0.0\n",
      "('scientific_papers', 'pref_ordered') blanc\n"
     ]
    },
    {
     "name": "stderr",
     "output_type": "stream",
     "text": [
      "100%|██████████| 1000/1000 [03:35<00:00,  4.64it/s]\n"
     ]
    },
    {
     "name": "stdout",
     "output_type": "stream",
     "text": [
      "P-value: 0.087\n",
      "('scientific_papers', 'pref_ordered') supert\n"
     ]
    },
    {
     "name": "stderr",
     "output_type": "stream",
     "text": [
      "100%|██████████| 1000/1000 [03:35<00:00,  4.64it/s]\n"
     ]
    },
    {
     "name": "stdout",
     "output_type": "stream",
     "text": [
      "P-value: 0.304\n",
      "('scientific_papers', 'pref_ordered') summaqa_avg_fscore\n"
     ]
    },
    {
     "name": "stderr",
     "output_type": "stream",
     "text": [
      "100%|██████████| 1000/1000 [03:35<00:00,  4.65it/s]\n"
     ]
    },
    {
     "name": "stdout",
     "output_type": "stream",
     "text": [
      "P-value: 0.0\n",
      "('scientific_papers', 'pref_ordered') summaqa_avg_prob\n"
     ]
    },
    {
     "name": "stderr",
     "output_type": "stream",
     "text": [
      "100%|██████████| 1000/1000 [03:35<00:00,  4.65it/s]\n"
     ]
    },
    {
     "name": "stdout",
     "output_type": "stream",
     "text": [
      "P-value: 0.0\n",
      "('cnn_dailymail', 'pref_ordered') blanc\n"
     ]
    },
    {
     "name": "stderr",
     "output_type": "stream",
     "text": [
      "100%|██████████| 1000/1000 [03:32<00:00,  4.71it/s]\n"
     ]
    },
    {
     "name": "stdout",
     "output_type": "stream",
     "text": [
      "P-value: 0.0\n",
      "('cnn_dailymail', 'pref_ordered') supert\n"
     ]
    },
    {
     "name": "stderr",
     "output_type": "stream",
     "text": [
      "100%|██████████| 1000/1000 [03:31<00:00,  4.73it/s]\n"
     ]
    },
    {
     "name": "stdout",
     "output_type": "stream",
     "text": [
      "P-value: 0.0\n",
      "('cnn_dailymail', 'pref_ordered') summaqa_avg_fscore\n"
     ]
    },
    {
     "name": "stderr",
     "output_type": "stream",
     "text": [
      "100%|██████████| 1000/1000 [03:31<00:00,  4.73it/s]\n"
     ]
    },
    {
     "name": "stdout",
     "output_type": "stream",
     "text": [
      "P-value: 0.0\n",
      "('cnn_dailymail', 'pref_ordered') summaqa_avg_prob\n"
     ]
    },
    {
     "name": "stderr",
     "output_type": "stream",
     "text": [
      "100%|██████████| 1000/1000 [03:31<00:00,  4.73it/s]\n"
     ]
    },
    {
     "name": "stdout",
     "output_type": "stream",
     "text": [
      "P-value: 0.0\n",
      "('big_patent', 'pref_ordered') blanc\n"
     ]
    },
    {
     "name": "stderr",
     "output_type": "stream",
     "text": [
      "100%|██████████| 1000/1000 [03:31<00:00,  4.72it/s]\n"
     ]
    },
    {
     "name": "stdout",
     "output_type": "stream",
     "text": [
      "P-value: 0.436\n",
      "('big_patent', 'pref_ordered') supert\n",
      "Skip\n",
      "('big_patent', 'pref_ordered') summaqa_avg_fscore\n"
     ]
    },
    {
     "name": "stderr",
     "output_type": "stream",
     "text": [
      "100%|██████████| 1000/1000 [03:31<00:00,  4.73it/s]\n"
     ]
    },
    {
     "name": "stdout",
     "output_type": "stream",
     "text": [
      "P-value: 0.0\n",
      "('big_patent', 'pref_ordered') summaqa_avg_prob\n"
     ]
    },
    {
     "name": "stderr",
     "output_type": "stream",
     "text": [
      "100%|██████████| 1000/1000 [03:31<00:00,  4.73it/s]"
     ]
    },
    {
     "name": "stdout",
     "output_type": "stream",
     "text": [
      "P-value: 0.0\n"
     ]
    },
    {
     "name": "stderr",
     "output_type": "stream",
     "text": [
      "\n"
     ]
    }
   ],
   "source": [
    "sig_test()"
   ]
  }
 ],
 "metadata": {
  "interpreter": {
   "hash": "f73e00d382cd9fa8ab9231eb38f700e3a55dd397749a3015a484e3d418ba51cb"
  },
  "kernelspec": {
   "display_name": "Python 3.8.10 ('base')",
   "language": "python",
   "name": "python3"
  },
  "language_info": {
   "codemirror_mode": {
    "name": "ipython",
    "version": 3
   },
   "file_extension": ".py",
   "mimetype": "text/x-python",
   "name": "python",
   "nbconvert_exporter": "python",
   "pygments_lexer": "ipython3",
   "version": "3.8.10"
  },
  "orig_nbformat": 4
 },
 "nbformat": 4,
 "nbformat_minor": 2
}
