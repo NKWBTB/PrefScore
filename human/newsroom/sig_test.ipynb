{
 "cells": [
  {
   "cell_type": "code",
   "execution_count": 7,
   "metadata": {},
   "outputs": [],
   "source": [
    "from test_eval import *\n",
    "from tqdm import tqdm"
   ]
  },
  {
   "cell_type": "code",
   "execution_count": 8,
   "metadata": {},
   "outputs": [],
   "source": [
    "def load_idxs(path='ids.txt'):\n",
    "    tests = []\n",
    "    with open(path, \"r\") as f:\n",
    "        for line in f:\n",
    "            line = line.strip().split(\"\\t\")\n",
    "            tests.append(line)\n",
    "    return tests\n",
    "\n",
    "def gen_random_idxs(doc_ids, times=1000, dump_to='ids.txt'):\n",
    "    import random\n",
    "    with open(dump_to, \"w\") as f:\n",
    "        while times > 0:\n",
    "            test_docs = random.choices(doc_ids, k=len(doc_ids))\n",
    "            output = \"\\t\".join([str(i) for i in test_docs]) + \"\\n\"\n",
    "            f.write(output)\n",
    "            times -= 1"
   ]
  },
  {
   "cell_type": "code",
   "execution_count": 9,
   "metadata": {},
   "outputs": [],
   "source": [
    "result_root = \"../../exp/result_bert_base_uncased_5_15/15\"\n",
    "training_sets = [\"billsum\", \"scientific_papers\", \"cnn_dailymail\", \"big_patent\"]\n",
    "method = \"pref_ordered\"\n",
    "concensus_based_on=\"mean\"\n",
    "level = \"summary\"\n",
    "metrics_newsroom = \"Relevance\" # \"Fluency\" # \"Coherence\" #, \"Informativeness\", \"Fluency\", \"Relevance\"\n",
    "correlation_type = \"spearmanr\"\n",
    "\n",
    "scores = load_newsroom_and_ours(\"./newsroom-human-eval.csv\", \"./predictions/metric_bleu.tsv\")\n",
    "if not os.path.exists(\"ids.txt\"):\n",
    "    gen_random_idxs(list(scores.keys()))\n",
    "\n",
    "tests = load_idxs()"
   ]
  },
  {
   "cell_type": "code",
   "execution_count": 10,
   "metadata": {},
   "outputs": [],
   "source": [
    "targetA = [(train, method) for train in training_sets]\n",
    "targetB = ['metric_blanc_tune', 'metric_supert', 'metric_summaqa_avg_fscore', 'metric_summaqa_avg_prob']"
   ]
  },
  {
   "cell_type": "code",
   "execution_count": 11,
   "metadata": {},
   "outputs": [],
   "source": [
    "def sig_test():\n",
    "    f = open(\"sig_{}.tsv\".format(metrics_newsroom), \"w\", encoding=\"utf-8\")\n",
    "    f.write(metrics_newsroom + \"\\n\")\n",
    "    for sysA in targetA:\n",
    "        scoresA = load_newsroom_and_ours(\"./newsroom-human-eval.csv\", os.path.join(result_root, sysA[0], sysA[1], \"test_results_newsroom.tsv\"))\n",
    "        f.write(sysA[0] + \"\\t\")\n",
    "        for sysB in targetB:\n",
    "            print(sysA, sysB)\n",
    "            scoresB = load_newsroom_and_ours(\"./newsroom-human-eval.csv\", os.path.join(\"predictions\", sysB+\".tsv\"))\n",
    "            corrA = summary_judge(scoresA, [metrics_newsroom], [\"Ours\"], concensus_based_on, [correlation_type])\n",
    "            corrB = summary_judge(scoresB, [metrics_newsroom], [\"Ours\"], concensus_based_on, [correlation_type])\n",
    "            if corrA[correlation_type][(metrics_newsroom, \"Ours\")] < corrB[correlation_type][(metrics_newsroom, \"Ours\")]: \n",
    "                print(\"Skip\")\n",
    "                f.write(\"-\\t\")\n",
    "                continue\n",
    "            \n",
    "            count = 0\n",
    "            for test in tqdm(tests):\n",
    "                corrA = summary_judge(scoresA, [metrics_newsroom], [\"Ours\"], concensus_based_on, [correlation_type], test)\n",
    "                corrB = summary_judge(scoresB, [metrics_newsroom], [\"Ours\"], concensus_based_on, [correlation_type], test)\n",
    "                if corrA[correlation_type][(metrics_newsroom, \"Ours\")] < corrB[correlation_type][(metrics_newsroom, \"Ours\")]: count += 1\n",
    "            pvalue = count / len(tests)\n",
    "            print(\"P-value:\", pvalue)\n",
    "            f.write(\"%.2f\\t\" % pvalue)\n",
    "        f.write(\"\\n\")\n",
    "\n",
    "    f.write(\"\\t\".join([\"\"] + targetB))\n",
    "    f.close()"
   ]
  },
  {
   "cell_type": "code",
   "execution_count": 12,
   "metadata": {},
   "outputs": [
    {
     "name": "stdout",
     "output_type": "stream",
     "text": [
      "('billsum', 'pref_ordered') metric_blanc_tune\n"
     ]
    },
    {
     "name": "stderr",
     "output_type": "stream",
     "text": [
      "100%|██████████| 1000/1000 [01:56<00:00,  8.55it/s]\n"
     ]
    },
    {
     "name": "stdout",
     "output_type": "stream",
     "text": [
      "P-value: 0.101\n",
      "('billsum', 'pref_ordered') metric_supert\n"
     ]
    },
    {
     "name": "stderr",
     "output_type": "stream",
     "text": [
      "100%|██████████| 1000/1000 [01:57<00:00,  8.50it/s]\n"
     ]
    },
    {
     "name": "stdout",
     "output_type": "stream",
     "text": [
      "P-value: 0.098\n",
      "('billsum', 'pref_ordered') metric_summaqa_avg_fscore\n"
     ]
    },
    {
     "name": "stderr",
     "output_type": "stream",
     "text": [
      "100%|██████████| 1000/1000 [01:57<00:00,  8.48it/s]\n"
     ]
    },
    {
     "name": "stdout",
     "output_type": "stream",
     "text": [
      "P-value: 0.0\n",
      "('billsum', 'pref_ordered') metric_summaqa_avg_prob\n"
     ]
    },
    {
     "name": "stderr",
     "output_type": "stream",
     "text": [
      "100%|██████████| 1000/1000 [01:57<00:00,  8.51it/s]\n"
     ]
    },
    {
     "name": "stdout",
     "output_type": "stream",
     "text": [
      "P-value: 0.0\n",
      "('scientific_papers', 'pref_ordered') metric_blanc_tune\n"
     ]
    },
    {
     "name": "stderr",
     "output_type": "stream",
     "text": [
      "100%|██████████| 1000/1000 [01:57<00:00,  8.51it/s]\n"
     ]
    },
    {
     "name": "stdout",
     "output_type": "stream",
     "text": [
      "P-value: 0.035\n",
      "('scientific_papers', 'pref_ordered') metric_supert\n"
     ]
    },
    {
     "name": "stderr",
     "output_type": "stream",
     "text": [
      "100%|██████████| 1000/1000 [01:58<00:00,  8.45it/s]\n"
     ]
    },
    {
     "name": "stdout",
     "output_type": "stream",
     "text": [
      "P-value: 0.026\n",
      "('scientific_papers', 'pref_ordered') metric_summaqa_avg_fscore\n"
     ]
    },
    {
     "name": "stderr",
     "output_type": "stream",
     "text": [
      "100%|██████████| 1000/1000 [01:58<00:00,  8.45it/s]\n"
     ]
    },
    {
     "name": "stdout",
     "output_type": "stream",
     "text": [
      "P-value: 0.0\n",
      "('scientific_papers', 'pref_ordered') metric_summaqa_avg_prob\n"
     ]
    },
    {
     "name": "stderr",
     "output_type": "stream",
     "text": [
      "100%|██████████| 1000/1000 [01:58<00:00,  8.46it/s]\n"
     ]
    },
    {
     "name": "stdout",
     "output_type": "stream",
     "text": [
      "P-value: 0.0\n",
      "('cnn_dailymail', 'pref_ordered') metric_blanc_tune\n"
     ]
    },
    {
     "name": "stderr",
     "output_type": "stream",
     "text": [
      "100%|██████████| 1000/1000 [01:58<00:00,  8.47it/s]\n"
     ]
    },
    {
     "name": "stdout",
     "output_type": "stream",
     "text": [
      "P-value: 0.019\n",
      "('cnn_dailymail', 'pref_ordered') metric_supert\n"
     ]
    },
    {
     "name": "stderr",
     "output_type": "stream",
     "text": [
      "100%|██████████| 1000/1000 [01:57<00:00,  8.49it/s]\n"
     ]
    },
    {
     "name": "stdout",
     "output_type": "stream",
     "text": [
      "P-value: 0.006\n",
      "('cnn_dailymail', 'pref_ordered') metric_summaqa_avg_fscore\n"
     ]
    },
    {
     "name": "stderr",
     "output_type": "stream",
     "text": [
      "100%|██████████| 1000/1000 [01:58<00:00,  8.47it/s]\n"
     ]
    },
    {
     "name": "stdout",
     "output_type": "stream",
     "text": [
      "P-value: 0.0\n",
      "('cnn_dailymail', 'pref_ordered') metric_summaqa_avg_prob\n"
     ]
    },
    {
     "name": "stderr",
     "output_type": "stream",
     "text": [
      "100%|██████████| 1000/1000 [01:57<00:00,  8.48it/s]\n"
     ]
    },
    {
     "name": "stdout",
     "output_type": "stream",
     "text": [
      "P-value: 0.0\n",
      "('big_patent', 'pref_ordered') metric_blanc_tune\n"
     ]
    },
    {
     "name": "stderr",
     "output_type": "stream",
     "text": [
      "100%|██████████| 1000/1000 [01:57<00:00,  8.48it/s]\n"
     ]
    },
    {
     "name": "stdout",
     "output_type": "stream",
     "text": [
      "P-value: 0.174\n",
      "('big_patent', 'pref_ordered') metric_supert\n"
     ]
    },
    {
     "name": "stderr",
     "output_type": "stream",
     "text": [
      "100%|██████████| 1000/1000 [01:57<00:00,  8.49it/s]\n"
     ]
    },
    {
     "name": "stdout",
     "output_type": "stream",
     "text": [
      "P-value: 0.189\n",
      "('big_patent', 'pref_ordered') metric_summaqa_avg_fscore\n"
     ]
    },
    {
     "name": "stderr",
     "output_type": "stream",
     "text": [
      "100%|██████████| 1000/1000 [01:57<00:00,  8.48it/s]\n"
     ]
    },
    {
     "name": "stdout",
     "output_type": "stream",
     "text": [
      "P-value: 0.001\n",
      "('big_patent', 'pref_ordered') metric_summaqa_avg_prob\n"
     ]
    },
    {
     "name": "stderr",
     "output_type": "stream",
     "text": [
      "100%|██████████| 1000/1000 [01:57<00:00,  8.49it/s]"
     ]
    },
    {
     "name": "stdout",
     "output_type": "stream",
     "text": [
      "P-value: 0.0\n"
     ]
    },
    {
     "name": "stderr",
     "output_type": "stream",
     "text": [
      "\n"
     ]
    }
   ],
   "source": [
    "sig_test()"
   ]
  }
 ],
 "metadata": {
  "interpreter": {
   "hash": "f73e00d382cd9fa8ab9231eb38f700e3a55dd397749a3015a484e3d418ba51cb"
  },
  "kernelspec": {
   "display_name": "Python 3.8.10 ('base')",
   "language": "python",
   "name": "python3"
  },
  "language_info": {
   "codemirror_mode": {
    "name": "ipython",
    "version": 3
   },
   "file_extension": ".py",
   "mimetype": "text/x-python",
   "name": "python",
   "nbconvert_exporter": "python",
   "pygments_lexer": "ipython3",
   "version": "3.8.10"
  },
  "orig_nbformat": 4
 },
 "nbformat": 4,
 "nbformat_minor": 2
}
