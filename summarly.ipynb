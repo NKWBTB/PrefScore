{
 "cells": [
  {
   "cell_type": "code",
   "execution_count": 1,
   "metadata": {},
   "outputs": [],
   "source": [
    "# import model as M\n",
    "# import evaluate as E\n",
    "import config as CFG\n",
    "import os\n",
    "import json\n",
    "import numpy as np\n",
    "import torch\n",
    "import torch.nn as nn\n",
    "import torch.nn.functional as F\n",
    "from torch.utils.data import Dataset, DataLoader\n",
    "from transformers import AutoTokenizer, AutoModel, BatchEncoding, BertModel\n",
    "from tqdm import tqdm"
   ]
  },
  {
   "cell_type": "code",
   "execution_count": 2,
   "metadata": {},
   "outputs": [],
   "source": [
    "model_checkpoint = \"bert-base-uncased\"\n",
    "tokenizer = AutoTokenizer.from_pretrained(model_checkpoint)"
   ]
  },
  {
   "cell_type": "code",
   "execution_count": 3,
   "metadata": {},
   "outputs": [],
   "source": [
    "DATASET_ROOT= 'exp/data/'\n",
    "RESULT_ROOT = \"exp/result_bert_base_uncased_summarly\"\n",
    "METHOD = 'summar_ly'\n",
    "\n",
    "DATASETS = [\"cnn_dailymail\"]"
   ]
  },
  {
   "cell_type": "code",
   "execution_count": 4,
   "metadata": {},
   "outputs": [],
   "source": [
    "def convert_single_example(example):\n",
    "    doc_sents = [\"[CLS] \" + sent for sent in example[\"doc\"]]\n",
    "    doc_text = \" \".join(doc_sents)\n",
    "\n",
    "    samples = []\n",
    "\n",
    "    for _sum in example[\"sums\"]:\n",
    "        sum_sents = [\"[CLS] \" + sent[\"text\"] for sent in _sum[\"sample\"]]\n",
    "        labels = [[sent[\"fact\"], sent[\"ling\"]] for sent in _sum[\"sample\"]]\n",
    "        sum_text = \" \".join(sum_sents)\n",
    "\n",
    "        inputs = tokenizer(doc_text, sum_text, \n",
    "        padding='max_length', truncation=\"longest_first\", return_tensors=\"pt\")\n",
    "        cov_label = [-100] * tokenizer.model_max_length\n",
    "        sum_label = [[-100, -100]] * tokenizer.model_max_length\n",
    "        \n",
    "        # Align coverage label\n",
    "        cnt = 0\n",
    "        sep = -1\n",
    "        for i in range(1, tokenizer.model_max_length):\n",
    "            if inputs[\"input_ids\"][0][i] == tokenizer.sep_token_id:\n",
    "                sep = i\n",
    "                break\n",
    "            elif inputs[\"input_ids\"][0][i] == tokenizer.cls_token_id:\n",
    "                cov_label[i] = int(_sum[\"coverage\"][cnt])\n",
    "                cnt += 1\n",
    "        cnt = 0\n",
    "        # Align fact/ling label\n",
    "        for i in range(sep, tokenizer.model_max_length):\n",
    "            if inputs[\"input_ids\"][0][i] == tokenizer.cls_token_id:\n",
    "                sum_label[i] = labels[cnt]\n",
    "                cnt += 1\n",
    "\n",
    "        final_label = np.hstack([np.array(cov_label).reshape(-1, 1), np.array(sum_label)])\n",
    "        \n",
    "        inputs = {k: v.squeeze() for k, v in inputs.items()}\n",
    "        samples.append((inputs, torch.Tensor(final_label)))\n",
    "        \n",
    "    return samples"
   ]
  },
  {
   "cell_type": "code",
   "execution_count": 5,
   "metadata": {},
   "outputs": [],
   "source": [
    "class TokenizedDataset(Dataset):\n",
    "    def __init__(self, datapath, limit = None):\n",
    "        self.data = []\n",
    "        with open(datapath, \"r\", encoding=\"utf-8\") as f:\n",
    "            for line in tqdm(f):\n",
    "                example = json.loads(line)\n",
    "                samples = convert_single_example(example)\n",
    "                size = len(samples)\n",
    "                for i in range(1, size):\n",
    "                    self.data.append((samples[0], samples[i]))\n",
    "                \n",
    "                if not limit is None:\n",
    "                    limit -= 1\n",
    "                    if limit == 0: break\n",
    "\n",
    "    def __len__(self):\n",
    "        return len(self.data)\n",
    "\n",
    "    def __getitem__(self, idx):\n",
    "        return self.data[idx][0], self.data[idx][1]"
   ]
  },
  {
   "cell_type": "code",
   "execution_count": 6,
   "metadata": {},
   "outputs": [],
   "source": [
    "class Scorer(nn.Module):\n",
    "    def __init__(self):\n",
    "        super(Scorer, self).__init__()\n",
    "        self.model = AutoModel.from_pretrained(CFG.BERT_MODEL)\n",
    "        self.score_head = nn.Linear(self.model.config.hidden_size, 1)\n",
    "        self.classify_head = nn.Linear(self.model.config.hidden_size, 3)\n",
    "    \n",
    "    def forward(self, inputs):\n",
    "        outputs = self.model(**inputs)\n",
    "        score = self.score_head(outputs.pooler_output)\n",
    "        logits = self.classify_head(outputs.last_hidden_state)\n",
    "\n",
    "        return score, logits"
   ]
  },
  {
   "cell_type": "code",
   "execution_count": 7,
   "metadata": {},
   "outputs": [],
   "source": [
    "def train_model(model, train_set, max_iter=CFG.MAX_ITERATION):\n",
    "    train_dataloader = DataLoader(train_set, batch_size=CFG.BATCH_SIZE, shuffle=True)\n",
    "\n",
    "    optimizer = torch.optim.Adam(model.parameters(), lr = CFG.LR)\n",
    "    score_loss_fn = nn.CrossEntropyLoss()\n",
    "    class_loss_fn = nn.BCEWithLogitsLoss(reduction='none')\n",
    "\n",
    "    running_loss = 0.0\n",
    "    with tqdm(total=max_iter) as pbar:\n",
    "        for pos, neg in train_dataloader:\n",
    "            inputs_pos, labels_pos = pos\n",
    "            inputs_neg, labels_neg = neg\n",
    "            labels_pos = labels_pos.to(CFG.DEVICE)\n",
    "            labels_neg = labels_neg.to(CFG.DEVICE)\n",
    "            inputs_pos = BatchEncoding(inputs_pos).to(CFG.DEVICE)\n",
    "            inputs_neg = BatchEncoding(inputs_neg).to(CFG.DEVICE)\n",
    "            \n",
    "            score_pos, logits_pos = model(inputs_pos)\n",
    "            score_neg, logits_neg = model(inputs_neg)\n",
    "            mask_pos = labels_pos != -100\n",
    "            mask_neg = labels_neg != -100\n",
    "            \n",
    "            # Preference Loss\n",
    "            score_cat = torch.cat((score_pos, score_neg), -1)\n",
    "            score_labels = torch.tensor([0]*labels_pos.shape[0], dtype=torch.long).to(CFG.DEVICE)\n",
    "            loss_score = score_loss_fn(score_cat, score_labels)\n",
    "            # Classification Loss\n",
    "            loss_class_pos = class_loss_fn(logits_pos, labels_pos) * mask_pos\n",
    "            loss_class_neg = class_loss_fn(logits_neg, labels_neg) * mask_neg\n",
    "            loss = loss_score + torch.sum(loss_class_pos) + torch.sum(loss_class_neg)\n",
    "            \n",
    "            optimizer.zero_grad()\n",
    "            loss.backward()\n",
    "            optimizer.step()\n",
    "            running_loss += loss.item()\n",
    "\n",
    "            num_iter += 1\n",
    "            pbar.update(1)\n",
    "            if num_iter % 1000 == 999:\n",
    "                pbar.write(\"Iteration {}, Loss {}\".format(num_iter+1, running_loss))\n",
    "                running_loss = 0.0"
   ]
  },
  {
   "cell_type": "code",
   "execution_count": 8,
   "metadata": {},
   "outputs": [],
   "source": [
    "def train():\n",
    "    for DATASET in DATASETS:\n",
    "        train_set = TokenizedDataset(os.path.join(CFG.DATASET_ROOT, DATASET, METHOD, 'train.jsonl'))\n",
    "\n",
    "        model = Scorer()\n",
    "        model.to(CFG.DEVICE)\n",
    "\n",
    "        train_model(model, train_set)\n",
    "\n",
    "        CKPT_PATH = os.path.join(CFG.RESULT_ROOT, DATASET, CFG.METHOD, \"model.pth\")\n",
    "        if not os.path.exists(os.path.dirname(CKPT_PATH)):\n",
    "            os.makedirs(os.path.dirname(CKPT_PATH))\n",
    "\n",
    "        torch.save(model.state_dict(), CKPT_PATH)\n",
    "\n",
    "        del model\n",
    "        torch.cuda.empty_cache()"
   ]
  },
  {
   "cell_type": "code",
   "execution_count": null,
   "metadata": {},
   "outputs": [
    {
     "name": "stderr",
     "output_type": "stream",
     "text": [
      "767it [01:07, 10.98it/s]"
     ]
    }
   ],
   "source": [
    "train()"
   ]
  }
 ],
 "metadata": {
  "interpreter": {
   "hash": "f73e00d382cd9fa8ab9231eb38f700e3a55dd397749a3015a484e3d418ba51cb"
  },
  "kernelspec": {
   "display_name": "Python 3 (ipykernel)",
   "language": "python",
   "name": "python3"
  },
  "language_info": {
   "codemirror_mode": {
    "name": "ipython",
    "version": 3
   },
   "file_extension": ".py",
   "mimetype": "text/x-python",
   "name": "python",
   "nbconvert_exporter": "python",
   "pygments_lexer": "ipython3",
   "version": "3.8.10"
  }
 },
 "nbformat": 4,
 "nbformat_minor": 4
}
